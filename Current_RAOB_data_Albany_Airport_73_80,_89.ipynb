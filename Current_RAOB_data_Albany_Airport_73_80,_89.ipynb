{
 "cells": [
  {
   "cell_type": "markdown",
   "id": "3509f383",
   "metadata": {
    "id": "3509f383"
   },
   "source": [
    "# Current RAOB data Albany Airport -73.80,   89\n",
    "This code takes the most current sounding from the NOAA's webstite from the albany airport station and places all of the data into a dataframe."
   ]
  },
  {
   "cell_type": "code",
   "execution_count": 2,
   "id": "b03f1e82",
   "metadata": {
    "id": "b03f1e82"
   },
   "outputs": [
    {
     "ename": "ModuleNotFoundError",
     "evalue": "No module named 'matplotlib'",
     "output_type": "error",
     "traceback": [
      "\u001b[0;31m---------------------------------------------------------------------------\u001b[0m",
      "\u001b[0;31mModuleNotFoundError\u001b[0m                       Traceback (most recent call last)",
      "Cell \u001b[0;32mIn[2], line 3\u001b[0m\n\u001b[1;32m      1\u001b[0m \u001b[38;5;66;03m# standard inputs\u001b[39;00m\n\u001b[1;32m      2\u001b[0m \u001b[38;5;28;01mimport\u001b[39;00m \u001b[38;5;21;01mpandas\u001b[39;00m \u001b[38;5;28;01mas\u001b[39;00m \u001b[38;5;21;01mpd\u001b[39;00m\n\u001b[0;32m----> 3\u001b[0m \u001b[38;5;28;01mimport\u001b[39;00m \u001b[38;5;21;01mmatplotlib\u001b[39;00m\u001b[38;5;21;01m.\u001b[39;00m\u001b[38;5;21;01mpyplot\u001b[39;00m \u001b[38;5;28;01mas\u001b[39;00m \u001b[38;5;21;01mplt\u001b[39;00m\n\u001b[1;32m      4\u001b[0m \u001b[38;5;66;03m# these imports allow accessing data from websites\u001b[39;00m\n\u001b[1;32m      5\u001b[0m \u001b[38;5;28;01mfrom\u001b[39;00m \u001b[38;5;21;01mbs4\u001b[39;00m \u001b[38;5;28;01mimport\u001b[39;00m BeautifulSoup\n",
      "\u001b[0;31mModuleNotFoundError\u001b[0m: No module named 'matplotlib'"
     ]
    }
   ],
   "source": [
    "# standard inputs\n",
    "import pandas as pd\n",
    "import matplotlib.pyplot as plt\n",
    "# these imports allow accessing data from websites\n",
    "from bs4 import BeautifulSoup\n",
    "import requests\n",
    "# this import is to make the graph look nicer\n",
    "import matplotlib.colors as mcolors"
   ]
  },
  {
   "cell_type": "code",
   "execution_count": null,
   "id": "814d2873",
   "metadata": {
    "id": "814d2873"
   },
   "outputs": [],
   "source": [
    "page = requests.get(\"https://rucsoundings.noaa.gov/get_soundings.cgi?start=latest&airport=72518&\")\n",
    "inputdata = BeautifulSoup(page.text, 'html')"
   ]
  },
  {
   "cell_type": "code",
   "execution_count": null,
   "id": "ad7b3b40",
   "metadata": {
    "id": "ad7b3b40"
   },
   "outputs": [],
   "source": [
    "data = inputdata.string[408:]\n",
    "data = data.strip()\n",
    "data = ' '.join(data.split())\n",
    "data = data.replace(\" \", \",\")\n",
    "rows = data.split(',')\n",
    "df = pd.DataFrame([rows[i:i+7] for i in range(0, len(rows), 7)], columns=['TYPE', 'PRESSURE', 'HEIGHT', 'TEMP', 'DEWPT', 'WIND DIR', 'WIND SPD'])\n",
    "df = df.apply(pd.to_numeric, errors='ignore')"
   ]
  },
  {
   "cell_type": "code",
   "execution_count": null,
   "id": "c80f7213",
   "metadata": {
    "id": "c80f7213"
   },
   "outputs": [],
   "source": [
    "def celsius_to_fahrenheit(celsius):\n",
    "    return (celsius * 9/5) + 32\n",
    "def tenthcelsius_to_celsius(tenthcelcius):\n",
    "    return (tenthcelcius * 1/10)\n",
    "def meters_to_feet(meters):\n",
    "    return (meters * 3.28084)\n",
    "\n",
    "# Adding a new column with values converted from metric to imperial units\n",
    "df['TEMP_celsius'] = df['TEMP'].apply(tenthcelsius_to_celsius)\n",
    "df['TEMP_fahrenheit'] = df['TEMP_celsius'].apply(celsius_to_fahrenheit)\n",
    "df['HEIGHT_feet'] = df['HEIGHT'].apply(meters_to_feet)"
   ]
  },
  {
   "cell_type": "code",
   "execution_count": null,
   "id": "400eb496",
   "metadata": {
    "id": "400eb496"
   },
   "outputs": [],
   "source": [
    "#This list shows all of the heights that split the data into boxes that get checked for inversions\n",
    "boxpartition = [0,500,1000,2000,3000,4000,5000,6000,7000,8000]\n",
    "\n",
    "#This list will represent if there is an inversion between heights i and i+1 in the boxpartition list\n",
    "#A zero represents no inversion a 1 represents an inversion\n",
    "flaglist = []\n",
    "\n",
    "# Loop 9 times for 9 boxes checked\n",
    "for i in range(9):\n",
    "\n",
    "    #the height of the checked box will start at the first value of the boxpartition list then go to the next highest\n",
    "    box = df[(df['HEIGHT'] >= boxpartition[i]) & (df['HEIGHT'] <= boxpartition[i+1])]['HEIGHT']\n",
    "\n",
    "    #find the index number of the maximum height of the box\n",
    "    boxmaxindex = box.idxmax()\n",
    "    boxmax = box.max()\n",
    "\n",
    "    #find the index number of the lowest temp in the box\n",
    "    boxtemp = df.loc[0:boxmaxindex, 'TEMP']\n",
    "    boxtempmin = boxtemp.min()\n",
    "    boxtempminindex = df.index[df['TEMP'] == boxtempmin].tolist()\n",
    "\n",
    "    #if the minimum temperature is in the same place as the maximum height there is no inversion\n",
    "    #if the mimimum temperature happens not at the highest height there is an inversion\n",
    "    #if there are two minimum temperatures there is an inversion\n",
    "    #this is flagged by taking the lower height of the two minimums\n",
    "    if boxmaxindex == boxtempminindex[0]:\n",
    "        flaglist.append(0)\n",
    "    else:\n",
    "        flaglist.append(1)"
   ]
  },
  {
   "cell_type": "code",
   "execution_count": null,
   "id": "44a3baa5",
   "metadata": {
    "colab": {
     "base_uri": "https://localhost:8080/",
     "height": 476
    },
    "id": "44a3baa5",
    "outputId": "7c5aaa8b-ed9b-49b6-91c1-e3e00b23d0a6"
   },
   "outputs": [],
   "source": [
    "df.plot(x='TEMP_fahrenheit', y='HEIGHT_feet', kind='line')\n",
    "\n",
    "#axis labels and legend\n",
    "plt.xlabel(r'Temp ($^\\circ$F)')\n",
    "plt.ylabel('Height (feet)')\n",
    "plt.title('Temperature Inversions')\n",
    "plt.legend(['Temperature at that Height'])\n",
    "\n",
    "#the y axis goes from 0 to the max height looked at\n",
    "plt.ylim(0,26246.72)\n",
    "\n",
    "#this sets the x axis using the highest and lowest temperatures in the range\n",
    "height_range = df[(df['HEIGHT'] >= 0 ) & (df['HEIGHT'] <= 10000)]['HEIGHT']\n",
    "maxheightindex = box.idxmax()\n",
    "temps = df.loc[0:maxheightindex, 'TEMP_fahrenheit']\n",
    "tempmin = temps.min()\n",
    "tempmax = temps.max()\n",
    "plt.xlim(tempmin-7,tempmax+7)\n",
    "\n",
    "#this highlights the regions of the plot that were previously flagged as having an inversion and highlights them\n",
    "colors = mcolors.LinearSegmentedColormap.from_list('red_to_yellow', ['red', 'yellow'])\n",
    "for i in range(9):\n",
    "    flag = flaglist[i]\n",
    "    boxbottom = boxpartition[i]* 3.28084\n",
    "    boxtop = boxpartition[i+1]* 3.28084\n",
    "    color_value = i / 9\n",
    "    xmid = (tempmin+tempmax)/2\n",
    "    ymid = (boxbottom+boxtop)/2\n",
    "    if flag == 1:\n",
    "        plt.fill_betweenx([boxbottom, boxtop], tempmin-7, tempmax+7, color=colors(color_value), alpha=0.3)\n",
    "        plt.text(xmid-30, ymid-900, 'Inversion', fontsize=12, color='red', ha='center', va='bottom')\n",
    "plt.show()"
   ]
  },
  {
   "cell_type": "code",
   "execution_count": null,
   "id": "509515f8",
   "metadata": {
    "colab": {
     "base_uri": "https://localhost:8080/"
    },
    "id": "509515f8",
    "outputId": "b4ac817a-ebac-41db-9bc6-216a223fc547"
   },
   "outputs": [],
   "source": [
    "flaglist"
   ]
  },
  {
   "cell_type": "code",
   "execution_count": null,
   "id": "mFYdFH1roJpX",
   "metadata": {
    "colab": {
     "base_uri": "https://localhost:8080/",
     "height": 455
    },
    "id": "mFYdFH1roJpX",
    "outputId": "d5cf6353-e2fb-4ab3-ef01-f121d2f6643d"
   },
   "outputs": [],
   "source": [
    "df.plot(x='TEMP', y='HEIGHT', kind='line')\n",
    "plt.ylim(0,8000)\n",
    "plt.grid()"
   ]
  },
  {
   "cell_type": "code",
   "execution_count": null,
   "id": "a59c8ff1",
   "metadata": {
    "colab": {
     "base_uri": "https://localhost:8080/",
     "height": 1000
    },
    "id": "a59c8ff1",
    "outputId": "ef9df9c0-8335-43cc-bdc7-7aa609977953"
   },
   "outputs": [],
   "source": [
    "df"
   ]
  },
  {
   "cell_type": "code",
   "execution_count": null,
   "id": "b43ab66a",
   "metadata": {
    "id": "b43ab66a"
   },
   "outputs": [],
   "source": []
  }
 ],
 "metadata": {
  "colab": {
   "provenance": []
  },
  "kernelspec": {
   "display_name": "Python 3 (ipykernel)",
   "language": "python",
   "name": "python3"
  },
  "language_info": {
   "codemirror_mode": {
    "name": "ipython",
    "version": 3
   },
   "file_extension": ".py",
   "mimetype": "text/x-python",
   "name": "python",
   "nbconvert_exporter": "python",
   "pygments_lexer": "ipython3",
   "version": "3.12.0"
  }
 },
 "nbformat": 4,
 "nbformat_minor": 5
}
